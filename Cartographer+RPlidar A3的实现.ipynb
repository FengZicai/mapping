{
 "cells": [
  {
   "cell_type": "markdown",
   "metadata": {},
   "source": [
    "#  Cartographer+RPlidar A3的实现\n",
    "进行[Rplidar学习（五）—— rplidar使用cartographer_ros进行地图云生成](https://www.cnblogs.com/BlueMountain-HaggenDazs/p/6691709.html)的测试<p>\n",
    "[Jetson TX2 使用 Rplidar A2 实现 Cartographer](https://blog.csdn.net/Chris_xrp/article/details/80362487)<p>\n",
    "    \n",
    "## （1）Cartographer由数据包作图\n",
    "Cartographer的配置很麻烦\n",
    "    [遇到了Building ceres-solver fail with eigen3](https://blog.csdn.net/sunyoop/article/details/79032174)<p>\n",
    "    记住使用的是python2.7版本的。\n",
    "    首先安装eigen<p>\n",
    "    Ceres-Solver的安装1.11.0报错，正在安装1.14.0，似乎是好的。。是版本匹配的问题？？<p>\n",
    "    ubuntu18.04太恶心了。。<p>\n",
    "    安装Cartogrepher报错,尝试使用git clone https://github.com/googlecartographer/cartographer.git <p>\n",
    "    似乎是正确的 。。遇到的大部分问题是版本问题<p>\n",
    "    应该在ubuntu16.04上搞的。<p>\n",
    "    按照https://blog.csdn.net/bflong/article/details/80973259 的介绍新建了工作空间。<p>\n",
    "    安装好了cartographer_ros包<p>\n",
    "    从 https://www.cnblogs.com/hitcm/p/5939507.html 下载二维数据进行尝试<p>\n",
    "    按照https://github.com/googlecartographer/cartographer_ros/issues/48 添加<p>\n",
    "    echo \"source ~/install_isolated/setup.bash\" >> ~/.bashrc<p>\n",
    "    source ~/.bashrc<p>\n",
    "    结果如下:\n",
    "    ![cartographer_bag.png](cartographer_bag.png)\n",
    "    ![cartographer_bag_2.png](cartographer_bag_2.png)\n",
    "        \n",
    "        \n",
    "## (2)RPlidar A3的ROS包如何编译运行的呢？\n",
    "参考：[ROS Kinetic+Ubuntu16.04.5 LTS+RPLIDAR A2成功安装及实测记录](https://blog.csdn.net/HuaCode/article/details/83182384)<p>\n",
    "需要注意的是安装的ros版本为Melodic Morenia，不是文中提到的Kinetic。ros版本需要和ubuntu版本对应。<p>\n",
    "备选参考：[RPLIDAR A2 rviz显示雷达数据教程](https://blog.csdn.net/u014453443/article/details/80903929)<p>\n",
    " [rplidar roswiki](http://wiki.ros.org/rplidar)中有激光雷达硬件配置和启动的命令<p>\n",
    "     \n",
    "实现结果如图：\n",
    "![rp_ctg.png](rp_ctg.png)"
   ]
  },
  {
   "cell_type": "markdown",
   "metadata": {},
   "source": []
  }
 ],
 "metadata": {
  "kernelspec": {
   "display_name": "Python 3",
   "language": "python",
   "name": "python3"
  },
  "language_info": {
   "codemirror_mode": {
    "name": "ipython",
    "version": 3
   },
   "file_extension": ".py",
   "mimetype": "text/x-python",
   "name": "python",
   "nbconvert_exporter": "python",
   "pygments_lexer": "ipython3",
   "version": "3.6.6"
  }
 },
 "nbformat": 4,
 "nbformat_minor": 2
}
