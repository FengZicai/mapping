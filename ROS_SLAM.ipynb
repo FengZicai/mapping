{
 "cells": [
  {
   "cell_type": "markdown",
   "metadata": {},
   "source": [
    "# 基于ROS使用激光雷达实现slam"
   ]
  },
  {
   "cell_type": "markdown",
   "metadata": {},
   "source": [
    "## 现有资料与思路总结"
   ]
  },
  {
   "cell_type": "markdown",
   "metadata": {},
   "source": [
    "    到目前为止，需要的各种条件和是否满足条件总结如下："
   ]
  },
  {
   "cell_type": "markdown",
   "metadata": {},
   "source": [
    "|条件   | 内容 | 是否满足  | \n",
    "|------- | ------------ | -------|\n",
    "|os |ubuntu| 是 |\n",
    "|ROS|ROS Melodic Morenia| 是 |      \n",
    "|激光雷达|RPlidar A3|是|\n",
    "|平台| 小车或者机器人 | 否 |\n",
    "|里程计| 可能需要编码器  | 否 |\n"
   ]
  },
  {
   "cell_type": "markdown",
   "metadata": {},
   "source": [
    "## 还需要看windows下的simple_grabber工程吗？\n",
    "前一阶段执着于看源码，依据是想需要调用数据的话，以后的slam算法都需要用到这一部分代码，所以想以simple_geabber工程为蓝本，无论是以库的形式，还是算法工程一部分的形式，都需要用到。但是对ROS稍稍有些了解之后，我发现：\n",
    "不同的工程可以使用ROS的基础工具整合在一起。所以simple_geabber工程不管了~~\n"
   ]
  },
  {
   "cell_type": "markdown",
   "metadata": {},
   "source": []
  },
  {
   "cell_type": "markdown",
   "metadata": {},
   "source": [
    "## 什么是ROS系统呢？\n",
    "参考：[ROS是什么](https://blog.csdn.net/hujun1994/article/details/53870158)<p>\n",
    "ROS教程：http://wiki.ros.org/cn<p>\n",
    "    http://wiki.ros.org/cn/ROS/Tutorials\n",
    "\n"
   ]
  },
  {
   "cell_type": "markdown",
   "metadata": {},
   "source": [
    "## 什么是ROS的TOPIC？\n",
    "[ROS的话题（Topic）](https://blog.csdn.net/huangcanjun187/article/details/52625553)中提到：<p>\n",
    "ROS程序往往有许多个功能模块组成，这些功能模块成为节点（Node）。\n",
    "ROS中的话题（Topic），就是Node之间信息传输的方式。\n",
    "Topic是一对多的传输方式。即一个话题的发布者，可以由多个订阅者来订阅。\n",
    "比如，机器人现在左转，现在有一个名为”方向”的发布者，向所有订阅者发布“左转”这条信息。方向控制器作为一个订阅者，收到消息后，就控制系统左转；云台作为一个订阅者，得知消息后，也同时控制摄像头往左转，观测前方是否有障碍。"
   ]
  },
  {
   "cell_type": "markdown",
   "metadata": {},
   "source": [
    "## ROS系统下多节点如何通信？\n",
    "https://blog.csdn.net/banzhuan133/article/details/74906247"
   ]
  },
  {
   "cell_type": "markdown",
   "metadata": {},
   "source": [
    "## ROS系统如何编译工程？\n",
    "https://www.cnblogs.com/cv-pr/p/4835635.html"
   ]
  },
  {
   "cell_type": "markdown",
   "metadata": {},
   "source": [
    "## rplidar与ros相关信息\n",
    "### [rplidar roswiki](http://wiki.ros.org/rplidar)中提到\n",
    "- rplidar_ROS发布了话题：<p>\n",
    "    scan (sensor_msgs/LaserScan)\n",
    "    it publishes scan topic from the laser. \n",
    "    用于发送雷达数据。\n",
    "\n",
    "![publish_topics.png](publish_topics.png)\n",
    "\n",
    "- 在ros系统下，如何控制激光雷达雷达无刷电机转动？<p>\n",
    "    通过以上服务来控制雷达的转动\n",
    "    \n",
    "![services.png](services.png)\n",
    "    \n",
    "### [rplidar HomePage](http://www.slamtec.com/en/Lidar)\n",
    "\n",
    "### [rplidar SDK](https://github.com/Slamtec/rplidar_sdk)\n",
    "\n",
    "- [SDK库文件学习](https://www.cnblogs.com/BlueMountain-HaggenDazs/p/6523235.html)\n",
    "\n",
    "### [rplidar Tutorial](https://github.com/robopeak/rplidar_ros/wiki)"
   ]
  },
  {
   "cell_type": "markdown",
   "metadata": {},
   "source": [
    "## RPlidar A3的ROS包如何编译运行的呢？\n",
    "参考：[ROS Kinetic+Ubuntu16.04.5 LTS+RPLIDAR A2成功安装及实测记录](https://blog.csdn.net/HuaCode/article/details/83182384)<p>\n",
    "（有对象的人，学习动力都不一样，）<p>\n",
    "需要注意的是安装的ros版本为Melodic Morenia，不是文中提到的Kinetic。ros版本需要和ubuntu版本对应。<p>\n",
    "备选参考：[RPLIDAR A2 rviz显示雷达数据教程](https://blog.csdn.net/u014453443/article/details/80903929)"
   ]
  },
  {
   "cell_type": "markdown",
   "metadata": {},
   "source": [
    "## 如何使用激光雷达实现建图呢？\n",
    "### 方案一：tinyslam\n",
    "有一种称为tinyslam的很简洁的建图方法：<p>\n",
    "论文：《tinySLAM : a SLAM Algorithm in less than 200 lines C-Language Program》\n",
    "代码：https://github.com/OSLL/tiny-slam-ros-cpp<p>\n",
    "tinyslam工程介绍如下：\n",
    "#### 数据格式要求为存储为bag格式的数据，有关[bag](http://wiki.ros.org/Bags)\n",
    "you use the real-time data or replace the Dataset in BAG format with some other dataset player.\n",
    "#### These data should be provided through the ROS topics.\n",
    "ROS 订阅主题和发表主题\n",
    "    \n",
    "    \n"
   ]
  },
  {
   "cell_type": "markdown",
   "metadata": {},
   "source": [
    "### 方案二：Gmapping\n",
    "在查阅rplidar相关资料时，发现相关资料很多，有一种使用Gmapping实现的算法：<p>\n",
    "博客：[ROS下使用激光雷达RPLIDAR-A2进行SLAM完成地图的构建](https://blog.csdn.net/liujianlin01/article/details/80054088)<p>\n",
    "代码：https://github.com/LJianlin/ROS-SLAM-Gmapping/tree/master/robot1_description<p>\n",
    "从该博客中了解到以下信息：<p>\n",
    "    想要进行一个完整的地图建立离不开以下几个模块： \n",
    "1.坐标 \n",
    "2.激光数据 \n",
    "3.绘图算法"
   ]
  },
  {
   "cell_type": "markdown",
   "metadata": {},
   "source": [
    "### 方案三：谷歌Cartographer\n",
    "[ROS进阶学习（八）-- 谷歌Cartographer建图导航实战（收尾）](https://blog.csdn.net/weixin_40641902/article/details/80872059)<p>\n",
    "有关于Cartographer的介绍<p>\n",
    "[ROS进阶学习（六）-- 谷歌Cartographer安装测试1](https://blog.csdn.net/weixin_40641902/article/details/79090972)<p>\n",
    "[Rplidar学习（五）—— rplidar使用cartographer_ros进行地图云生成](https://www.cnblogs.com/BlueMountain-HaggenDazs/p/6691709.html)<p>\n",
    "[使用激光雷达（rplidar A2）和 google cartographer_ros算法包建图（以及转换为ｙａｍｌ文件）](https://blog.csdn.net/WalkingSoul/article/details/82023624)\n",
    "\n"
   ]
  },
  {
   "cell_type": "markdown",
   "metadata": {},
   "source": [
    "## 目前要解决的问题，按照解决顺序排列：<p>\n",
    "   1、tinyslam的复现；<p>\n",
    "   2、其他两种技术方案的复现；<p>\n",
    "   3、激光雷达搭载的平台：如果只用一台主机控制的话，需要购买可以和主机连接的的编码器；<p>\n",
    "   4、两台激光雷达数据匹配，这应该会成为最后实现的算法的创新点所在。<p>"
   ]
  },
  {
   "cell_type": "markdown",
   "metadata": {},
   "source": [
    "## 相关系列\n",
    "https://blog.csdn.net/weixin_40641902/article/category/7233822/1<p>\n",
    "https://www.cnblogs.com/BlueMountain-HaggenDazs/p/6523235.html<p>\n",
    "https://blog.csdn.net/slamtec/article/category/6525303/2<p>\n",
    "https://blog.csdn.net/banzhuan133/article/details/74906247"
   ]
  },
  {
   "cell_type": "markdown",
   "metadata": {},
   "source": []
  },
  {
   "cell_type": "markdown",
   "metadata": {},
   "source": []
  },
  {
   "cell_type": "markdown",
   "metadata": {},
   "source": []
  },
  {
   "cell_type": "markdown",
   "metadata": {},
   "source": []
  },
  {
   "cell_type": "markdown",
   "metadata": {},
   "source": []
  }
 ],
 "metadata": {
  "kernelspec": {
   "display_name": "Python 3",
   "language": "python",
   "name": "python3"
  },
  "language_info": {
   "codemirror_mode": {
    "name": "ipython",
    "version": 3
   },
   "file_extension": ".py",
   "mimetype": "text/x-python",
   "name": "python",
   "nbconvert_exporter": "python",
   "pygments_lexer": "ipython3",
   "version": "3.6.6"
  }
 },
 "nbformat": 4,
 "nbformat_minor": 2
}
