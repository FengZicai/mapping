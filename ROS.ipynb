{
 "cells": [
  {
   "cell_type": "markdown",
   "metadata": {},
   "source": [
    "## 什么是ROS系统呢？\n",
    "参考：[ROS是什么](https://blog.csdn.net/hujun1994/article/details/53870158)<p>\n",
    "ROS教程：http://wiki.ros.org/cn<p>\n",
    "    http://wiki.ros.org/cn/ROS/Tutorials\n",
    "    \n",
    "## 什么是ROS的TOPIC？\n",
    "[ROS的话题（Topic）](https://blog.csdn.net/huangcanjun187/article/details/52625553)中提到：<p>\n",
    "ROS程序往往有许多个功能模块组成，这些功能模块成为节点（Node）。\n",
    "ROS中的话题（Topic），就是Node之间信息传输的方式。\n",
    "Topic是一对多的传输方式。即一个话题的发布者，可以由多个订阅者来订阅。\n",
    "比如，机器人现在左转，现在有一个名为”方向”的发布者，向所有订阅者发布“左转”这条信息。方向控制器作为一个订阅者，收到消息后，就控制系统左转；云台作为一个订阅者，得知消息后，也同时控制摄像头往左转，观测前方是否有障碍。\n",
    "\n",
    "## ROS系统下多节点如何通信？\n",
    "https://blog.csdn.net/banzhuan133/article/details/74906247\n",
    "\n",
    "## ROS系统如何编译工程？\n",
    "https://www.cnblogs.com/cv-pr/p/4835635.html"
   ]
  },
  {
   "cell_type": "markdown",
   "metadata": {},
   "source": []
  }
 ],
 "metadata": {
  "kernelspec": {
   "display_name": "Python 3",
   "language": "python",
   "name": "python3"
  },
  "language_info": {
   "codemirror_mode": {
    "name": "ipython",
    "version": 3
   },
   "file_extension": ".py",
   "mimetype": "text/x-python",
   "name": "python",
   "nbconvert_exporter": "python",
   "pygments_lexer": "ipython3",
   "version": "3.6.6"
  }
 },
 "nbformat": 4,
 "nbformat_minor": 2
}
