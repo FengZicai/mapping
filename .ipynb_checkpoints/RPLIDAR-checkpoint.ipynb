{
 "cells": [
  {
   "cell_type": "markdown",
   "metadata": {},
   "source": [
    "## 还需要看windows下的simple_grabber工程吗？\n",
    "前一阶段执着于看源码，依据是想需要调用数据的话，以后的slam算法都需要用到这一部分代码，所以想以simple_geabber工程为蓝本，无论是以库的形式，还是算法工程一部分的形式，都需要用到。但是对ROS稍稍有些了解之后，我发现：\n",
    "不同的工程可以使用ROS的基础工具整合在一起。所以simple_geabber工程不管了~~"
   ]
  },
  {
   "cell_type": "markdown",
   "metadata": {},
   "source": [
    "# RPLIDAR A3源码分析\n",
    "见SDK文件夹"
   ]
  },
  {
   "cell_type": "markdown",
   "metadata": {},
   "source": [
    "## rplidar与ros相关信息\n",
    "### [rplidar roswiki](http://wiki.ros.org/rplidar)中提到\n",
    "- rplidar_ROS发布了话题：<p>\n",
    "    scan (sensor_msgs/LaserScan)\n",
    "    it publishes scan topic from the laser. \n",
    "    用于发送雷达数据。\n",
    "\n",
    "![publish_topics.png](publish_topics.png)\n",
    "\n",
    "- 在ros系统下，如何控制激光雷达雷达无刷电机转动？<p>\n",
    "    通过以上服务来控制雷达的转动\n",
    "    \n",
    "![services.png](services.png)\n",
    "    \n",
    "### [rplidar HomePage](http://www.slamtec.com/en/Lidar)\n",
    "\n",
    "### [rplidar SDK](https://github.com/Slamtec/rplidar_sdk)\n",
    "\n",
    "- [SDK库文件学习](https://www.cnblogs.com/BlueMountain-HaggenDazs/p/6523235.html)\n",
    "\n",
    "### [rplidar Tutorial](https://github.com/robopeak/rplidar_ros/wiki)"
   ]
  },
  {
   "cell_type": "markdown",
   "metadata": {},
   "source": []
  }
 ],
 "metadata": {
  "kernelspec": {
   "display_name": "Python 3",
   "language": "python",
   "name": "python3"
  },
  "language_info": {
   "codemirror_mode": {
    "name": "ipython",
    "version": 3
   },
   "file_extension": ".py",
   "mimetype": "text/x-python",
   "name": "python",
   "nbconvert_exporter": "python",
   "pygments_lexer": "ipython3",
   "version": "3.6.6"
  }
 },
 "nbformat": 4,
 "nbformat_minor": 2
}
