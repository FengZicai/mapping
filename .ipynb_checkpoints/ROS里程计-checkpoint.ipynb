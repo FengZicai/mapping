{
 "cells": [
  {
   "cell_type": "markdown",
   "metadata": {},
   "source": [
    "# ROS里程计的学习(odometry) (一)\n",
    "## https://blog.csdn.net/zhu751191958/article/details/79322364"
   ]
  },
  {
   "cell_type": "markdown",
   "metadata": {},
   "source": [
    "# ROS里程计的学习(odometry) (二)\n",
    "## https://blog.csdn.net/zhu751191958/article/details/79322994"
   ]
  },
  {
   "cell_type": "markdown",
   "metadata": {},
   "source": [
    "# ROS里程计的学习(odometry) (三)\n",
    "## https://blog.csdn.net/zhu751191958/article/details/79592915"
   ]
  },
  {
   "cell_type": "markdown",
   "metadata": {},
   "source": [
    "# ROS 里程计odometry\n",
    "## https://blog.csdn.net/feixin620/article/details/78269492"
   ]
  },
  {
   "cell_type": "markdown",
   "metadata": {},
   "source": [
    "# 编码器解算ROS里程计数据\n",
    "## https://blog.csdn.net/xiaolangyangyang/article/details/78518121"
   ]
  }
 ],
 "metadata": {
  "kernelspec": {
   "display_name": "Python 3",
   "language": "python",
   "name": "python3"
  },
  "language_info": {
   "codemirror_mode": {
    "name": "ipython",
    "version": 3
   },
   "file_extension": ".py",
   "mimetype": "text/x-python",
   "name": "python",
   "nbconvert_exporter": "python",
   "pygments_lexer": "ipython3",
   "version": "3.6.6"
  }
 },
 "nbformat": 4,
 "nbformat_minor": 2
}
