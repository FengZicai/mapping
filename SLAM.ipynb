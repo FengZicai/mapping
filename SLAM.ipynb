{
 "cells": [
  {
   "cell_type": "markdown",
   "metadata": {},
   "source": [
    "# slam和导航"
   ]
  },
  {
   "cell_type": "markdown",
   "metadata": {},
   "source": [
    "机器人实现自主导航都需要哪些?根据导航算法会有不同,但应该至少需要如下几种:<p>\n",
    "➊ 地图 -- SLAM技术让机器人自己绘制出地图。用中文来说就是同步定位与绘制地图。\n",
    "➋ 测量或估计机器人的姿态的功能  -- 相应技术是标志识别技术和室内定位系统等技术，更多的是使用导航推测\n",
    "导航推测技术使用机器人的车轮的旋转来推测机器人本身的移动量，但是车轮的旋转存在不小的误差。因此还利用IMU传感器等获取惯性信息来补偿位置和方向值。\n",
    "➌ 识别障碍物,如墙壁和物体的功能\n",
    "➍ 能够计算出最优路线并行驶的功能\n"
   ]
  },
  {
   "cell_type": "markdown",
   "metadata": {},
   "source": [
    "## 现有资料与思路总结"
   ]
  },
  {
   "cell_type": "markdown",
   "metadata": {},
   "source": [
    "    到目前为止，需要的各种条件和是否满足条件总结如下：\n",
    "    "
   ]
  },
  {
   "cell_type": "markdown",
   "metadata": {},
   "source": [
    "|条件   | 内容 | 是否满足  | \n",
    "|------- | ------------ | -------|\n",
    "|os |ubuntu| 是 |\n",
    "|ROS|ROS Melodic Morenia| 是 |      \n",
    "|激光雷达|建图用|是|\n",
    "|平台| 小车或者机器人 | 否 |\n",
    "|里程计| 测量或估计机器人姿态  | 否 |\n",
    "|SLAM|Cartographer | 是 |\n",
    "|SLAM|tinyslam | 否 |\n",
    "|SLAM|gmapping | 否 |\n",
    "|激光雷达|识别障碍物 | 是 |\n",
    "|导航功能|最优路径到达目的地 | 否 |"
   ]
  },
  {
   "cell_type": "markdown",
   "metadata": {},
   "source": [
    "- 地图（以实现）\n",
    "- 测量或估计机器人姿态的功能（结合里程计可实现）\n",
    "参见ROS_Robot_Programming_CN.pdf 320页\n",
    "- 识别障碍物,如墙壁和物体\n",
    "- 计算最优路径和行驶功能"
   ]
  },
  {
   "cell_type": "markdown",
   "metadata": {},
   "source": [
    "## 如何使用激光雷达实现建图呢？\n",
    "### 方案一：tinyslam\n",
    "有一种称为tinyslam的很简洁的建图方法：<p>\n",
    "论文：《tinySLAM : a SLAM Algorithm in less than 200 lines C-Language Program》\n",
    "代码：https://github.com/OSLL/tiny-slam-ros-cpp<p>\n",
    "tinyslam工程介绍如下：\n",
    "#### 数据格式要求为存储为bag格式的数据，有关[bag](http://wiki.ros.org/Bags)\n",
    "you use the real-time data or replace the Dataset in BAG format with some other dataset player.\n",
    "#### These data should be provided through the ROS topics.\n",
    "ROS 订阅主题和发表主题\n",
    "    \n",
    "    \n"
   ]
  },
  {
   "cell_type": "markdown",
   "metadata": {},
   "source": [
    "### 方案二：Gmapping\n",
    "在查阅rplidar相关资料时，发现相关资料很多，有一种使用Gmapping实现的算法：<p>\n",
    "博客：[ROS下使用激光雷达RPLIDAR-A2进行SLAM完成地图的构建](https://blog.csdn.net/liujianlin01/article/details/80054088)<p>\n",
    "代码：https://github.com/LJianlin/ROS-SLAM-Gmapping/tree/master/robot1_description<p>\n",
    "从该博客中了解到以下信息：<p>\n",
    "    想要进行一个完整的地图建立离不开以下几个模块： \n",
    "1.坐标 \n",
    "2.激光数据 \n",
    "3.绘图算法"
   ]
  },
  {
   "cell_type": "markdown",
   "metadata": {},
   "source": [
    "## 方案三：谷歌Cartographer\n",
    "[ROS进阶学习（八）-- 谷歌Cartographer建图导航实战（收尾）](https://blog.csdn.net/weixin_40641902/article/details/80872059)<p>\n",
    "有关于Cartographer的介绍<p>\n",
    "[ROS进阶学习（六）-- 谷歌Cartographer安装测试1](https://blog.csdn.net/weixin_40641902/article/details/79090972)<p>\n",
    "\n",
    "[使用激光雷达（rplidar A2）和 google cartographer_ros算法包建图（以及转换为ｙａｍｌ文件）](https://blog.csdn.net/WalkingSoul/article/details/82023624)"
   ]
  },
  {
   "cell_type": "markdown",
   "metadata": {},
   "source": [
    "## 目前要解决的问题，按照解决顺序排列：<p>\n",
    "   1、最简单的实现方式 是Cartographer的测试，正在搞；熟悉了ros操作；<p>\n",
    "   2、其他两种技术方案的复现，gmapping的复现，<p>\n",
    "   3、激光雷达搭载的平台：如果只用一台主机控制的话，需要购买可以和主机连接的的编码器；<p>\n",
    "   4、两台激光雷达数据匹配，这应该会成为最后实现的算法的创新点所在。<p>"
   ]
  },
  {
   "cell_type": "markdown",
   "metadata": {},
   "source": [
    "## 相关系列\n",
    "https://blog.csdn.net/weixin_40641902/article/category/7233822/1<p>\n",
    "https://www.cnblogs.com/BlueMountain-HaggenDazs/p/6523235.html<p>\n",
    "https://blog.csdn.net/slamtec/article/category/6525303/2<p>\n",
    "https://blog.csdn.net/banzhuan133/article/details/74906247\n",
    "    "
   ]
  },
  {
   "cell_type": "markdown",
   "metadata": {},
   "source": []
  },
  {
   "cell_type": "markdown",
   "metadata": {},
   "source": []
  },
  {
   "cell_type": "markdown",
   "metadata": {},
   "source": []
  },
  {
   "cell_type": "markdown",
   "metadata": {},
   "source": []
  },
  {
   "cell_type": "markdown",
   "metadata": {},
   "source": []
  },
  {
   "cell_type": "markdown",
   "metadata": {},
   "source": []
  },
  {
   "cell_type": "markdown",
   "metadata": {},
   "source": []
  },
  {
   "cell_type": "markdown",
   "metadata": {},
   "source": []
  },
  {
   "cell_type": "markdown",
   "metadata": {},
   "source": []
  },
  {
   "cell_type": "markdown",
   "metadata": {},
   "source": []
  },
  {
   "cell_type": "markdown",
   "metadata": {},
   "source": []
  },
  {
   "cell_type": "markdown",
   "metadata": {},
   "source": []
  }
 ],
 "metadata": {
  "kernelspec": {
   "display_name": "Python 3",
   "language": "python",
   "name": "python3"
  },
  "language_info": {
   "codemirror_mode": {
    "name": "ipython",
    "version": 3
   },
   "file_extension": ".py",
   "mimetype": "text/x-python",
   "name": "python",
   "nbconvert_exporter": "python",
   "pygments_lexer": "ipython3",
   "version": "3.6.6"
  }
 },
 "nbformat": 4,
 "nbformat_minor": 2
}
