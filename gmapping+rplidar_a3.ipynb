{
 "cells": [
  {
   "cell_type": "markdown",
   "metadata": {},
   "source": [
    "# 使用Gmapping有几种硬件限制：\n",
    "#### 移动方式\n",
    "机器人必须能够用X、Y轴平面上的平移速度(linear velocity)和theta旋转速度\n",
    "(angular velocity)指令进行操作。比如有左右两个可以单独驱动的差动驱动式移动机\n",
    "器人(differential drive mobile robot),或者具有三个以上的全向轮的全向移动机器\n",
    "人(omni-wheel robot)。\n",
    "#### 测位(Odometry)\n",
    "需要能获得测位信息。换句话说,要可以通过导航推测方法(dead reckoning)来推\n",
    "算机器人移动的距离和旋转量,或者通过使用IMU传感器的惯性信息推定姿态补偿,或\n",
    "用IMU传感器测量平移速度和旋转速度,最终要可以测量及推断机器人本身的位置。\n",
    "#### 检测用传感器\n",
    "有必要安装一个能够测量二维平面的传感器。\n",
    "#### 机器人的形态\n",
    "只考虑正多边形、正方形和圆形机器人。"
   ]
  },
  {
   "cell_type": "markdown",
   "metadata": {},
   "source": [
    "# 参考\n",
    "博客：[ROS下使用激光雷达RPLIDAR-A2进行SLAM完成地图的构建](https://blog.csdn.net/liujianlin01/article/details/80054088)<p>\n",
    "代码：https://github.com/LJianlin/ROS-SLAM-Gmapping/tree/master/robot1_description<p>\n"
   ]
  },
  {
   "cell_type": "markdown",
   "metadata": {},
   "source": [
    "# 步骤\n",
    "\n",
    "https://blog.csdn.net/liujianlin01/article/details/80054088\n",
    "$ roslaunch slam_gmapping dis_gmapping.launch这一步出现错误，错误为：\n",
    "RLException: [dis_gmapping.launch] is neither a launch file in package [slam_gmapping] nor is [slam_gmapping] a        launch file name\n",
    "The traceback for the exception was written to the log file\n",
    "输入source devel/setup.bash后，问题仍然存在。。。\n",
    "\n",
    "https://blog.csdn.net/HuaCode/article/details/83182384  链接中的内容已经完成。\n",
    "https://blog.csdn.net/shuimiaofeng/article/details/73176220?utm_source=blogxgwz8  是后来又查的内容，“测试环境Ubuntu14.04 + indigo”和我们的有出入，不过其中很多操作可以拿过来用，在“打开roscore，启动turtlebot、gmapping、rviz ”这一步骤上出现问题。\n",
    "\n",
    "经过查询，查到：\n",
    "https://www.ncnynl.com/archives/201611/1095.html，这里面有十分详细的关于“如何打开roscore，启动turtlebot、gmapping、rviz ”，但是在启动turtlebot时出错。终端执行：roslaunch turtlebot_bringup minimal.launch 后，错误为：\n",
    "RLException: Invalid <arg> tag: environment variable 'TURTLEBOT_BASE' is not set. \n",
    "\n",
    "\n"
   ]
  },
  {
   "cell_type": "code",
   "execution_count": null,
   "metadata": {},
   "outputs": [],
   "source": []
  }
 ],
 "metadata": {
  "kernelspec": {
   "display_name": "Python 3",
   "language": "python",
   "name": "python3"
  },
  "language_info": {
   "codemirror_mode": {
    "name": "ipython",
    "version": 3
   },
   "file_extension": ".py",
   "mimetype": "text/x-python",
   "name": "python",
   "nbconvert_exporter": "python",
   "pygments_lexer": "ipython3",
   "version": "3.6.6"
  }
 },
 "nbformat": 4,
 "nbformat_minor": 2
}
