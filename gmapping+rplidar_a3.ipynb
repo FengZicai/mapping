{
 "cells": [
  {
   "cell_type": "markdown",
   "metadata": {},
   "source": [
    "# 使用Gmapping有几种硬件限制：\n",
    "#### 移动方式\n",
    "机器人必须能够用X、Y轴平面上的平移速度(linear velocity)和theta旋转速度\n",
    "(angular velocity)指令进行操作。比如有左右两个可以单独驱动的差动驱动式移动机\n",
    "器人(differential drive mobile robot),或者具有三个以上的全向轮的全向移动机器\n",
    "人(omni-wheel robot)。\n",
    "#### 测位(Odometry)\n",
    "需要能获得测位信息。换句话说,要可以通过导航推测方法(dead reckoning)来推\n",
    "算机器人移动的距离和旋转量,或者通过使用IMU传感器的惯性信息推定姿态补偿,或\n",
    "用IMU传感器测量平移速度和旋转速度,最终要可以测量及推断机器人本身的位置。\n",
    "#### 检测用传感器\n",
    "有必要安装一个能够测量二维平面的传感器。\n",
    "#### 机器人的形态\n",
    "只考虑正多边形、正方形和圆形机器人。"
   ]
  },
  {
   "cell_type": "markdown",
   "metadata": {},
   "source": [
    "# 参考\n",
    "博客：[ROS下使用激光雷达RPLIDAR-A2进行SLAM完成地图的构建](https://blog.csdn.net/liujianlin01/article/details/80054088)<p>\n",
    "代码：https://github.com/LJianlin/ROS-SLAM-Gmapping/tree/master/robot1_description<p>\n"
   ]
  },
  {
   "cell_type": "markdown",
   "metadata": {},
   "source": [
    "# 步骤\n"
   ]
  }
 ],
 "metadata": {
  "kernelspec": {
   "display_name": "Python 3",
   "language": "python",
   "name": "python3"
  },
  "language_info": {
   "codemirror_mode": {
    "name": "ipython",
    "version": 3
   },
   "file_extension": ".py",
   "mimetype": "text/x-python",
   "name": "python",
   "nbconvert_exporter": "python",
   "pygments_lexer": "ipython3",
   "version": "3.6.6"
  }
 },
 "nbformat": 4,
 "nbformat_minor": 2
}
